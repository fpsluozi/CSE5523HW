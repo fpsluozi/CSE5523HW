{
 "cells": [
  {
   "cell_type": "code",
   "execution_count": 80,
   "metadata": {
    "collapsed": false
   },
   "outputs": [
    {
     "name": "stdout",
     "output_type": "stream",
     "text": [
      "[ 0.  0.  0.  0.  0.  0.  0.  0.  0.  0.  0.  0.  0.  0.  0.  0.  0.  0.\n",
      "  0.  0.  0.] [ 3.  0.  0.  0.  0.  0.  0.  0.  0.  0.  0.  0.  0.  0.  0.  0.  0.  0.\n",
      "  0.  0.  0.]\n"
     ]
    }
   ],
   "source": [
    "import numpy as np\n",
    "num = 200\n",
    "p = 21\n",
    "\n",
    "mean = np.zeros(p)\n",
    "mean2 = np.zeros(p)\n",
    "mean2[0] = 3\n",
    "\n",
    "cov = np.identity(p)\n",
    "\n",
    "s = np.random.binomial(1, 0.5, 200)\n",
    "\n",
    "c1_num = s.tolist().count(0)\n",
    "c2_num = num - c1_num\n",
    "point_c1 = np.random.multivariate_normal(mean, cov, c1_num)\n",
    "point_c2 = np.random.multivariate_normal(mean2, cov, c2_num)\n",
    "\n",
    "from sklearn.neighbors import KNeighborsClassifier\n",
    "X = np.concatenate((point_c1, point_c2), axis=0)\n",
    "y = [0] * c1_num + [1] * c2_num\n",
    "knn = KNeighborsClassifier(n_neighbors=3)\n",
    "knn.fit(X, y) \n",
    "\n",
    "print mean, mean2"
   ]
  },
  {
   "cell_type": "code",
   "execution_count": 1,
   "metadata": {
    "collapsed": false
   },
   "outputs": [
    {
     "name": "stderr",
     "output_type": "stream",
     "text": [
      "/Users/lawrencemacbook/anaconda/lib/python2.7/site-packages/matplotlib/font_manager.py:273: UserWarning: Matplotlib is building the font cache using fc-list. This may take a moment.\n",
      "  warnings.warn('Matplotlib is building the font cache using fc-list. This may take a moment.')\n"
     ]
    }
   ],
   "source": [
    "import numpy as np\n",
    "from sklearn.neighbors import KNeighborsClassifier\n",
    "import matplotlib.pyplot as plt\n",
    "\n",
    "def dataGenerator(num, p, mean_distance=3):\n",
    "    mean = np.zeros(p)\n",
    "    mean2 = np.zeros(p)\n",
    "    mean2[0] = mean_distance\n",
    "\n",
    "    cov = np.identity(p)\n",
    "\n",
    "    s = np.random.binomial(1, 0.5, num)\n",
    "\n",
    "    c1_num = s.tolist().count(0)\n",
    "    c2_num = num - c1_num\n",
    "    point_c1 = np.random.multivariate_normal(mean, cov, c1_num)\n",
    "    point_c2 = np.random.multivariate_normal(mean2, cov, c2_num)\n",
    "\n",
    "    \n",
    "    X = np.concatenate((point_c1, point_c2), axis=0)\n",
    "    y = [0] * c1_num + [1] * c2_num\n",
    "    \n",
    "    return X, y\n"
   ]
  },
  {
   "cell_type": "code",
   "execution_count": 94,
   "metadata": {
    "collapsed": false
   },
   "outputs": [],
   "source": [
    "\n",
    "\n",
    "\n"
   ]
  },
  {
   "cell_type": "code",
   "execution_count": 2,
   "metadata": {
    "collapsed": false
   },
   "outputs": [],
   "source": [
    "p_list = [1, 11, 21, 31, 41, 51, 61, 71, 81, 91, 101]\n",
    "\n",
    "error_list1 = []\n",
    "for p in p_list:\n",
    "    X_train, y_train = dataGenerator(200, p)\n",
    "    X_test, y_test = dataGenerator(1000, p)\n",
    "\n",
    "    knn = KNeighborsClassifier(n_neighbors=1)\n",
    "    knn.fit(X_train, y_train)\n",
    "    error_list1.append( 1.0 - knn.score(X_test, y_test) )\n",
    "    \n",
    "error_list2 = []\n",
    "for p in p_list:\n",
    "    X_train, y_train = dataGenerator(200, p)\n",
    "    X_test, y_test = dataGenerator(1000, p)\n",
    "\n",
    "    knn = KNeighborsClassifier(n_neighbors=3)\n",
    "    knn.fit(X_train, y_train)\n",
    "    error_list2.append( 1.0 - knn.score(X_test, y_test) )"
   ]
  },
  {
   "cell_type": "code",
   "execution_count": 88,
   "metadata": {
    "collapsed": false
   },
   "outputs": [
    {
     "name": "stderr",
     "output_type": "stream",
     "text": [
      "/Users/lawrencemacbook/anaconda/lib/python2.7/site-packages/matplotlib/font_manager.py:273: UserWarning: Matplotlib is building the font cache using fc-list. This may take a moment.\n",
      "  warnings.warn('Matplotlib is building the font cache using fc-list. This may take a moment.')\n"
     ]
    }
   ],
   "source": []
  },
  {
   "cell_type": "code",
   "execution_count": 8,
   "metadata": {
    "collapsed": false
   },
   "outputs": [],
   "source": [
    "line1, = plt.plot(p_list, error_list1, 'ro-', label='1-NN')\n",
    "line2, = plt.plot(p_list, error_list2, 'bx-', label='3-NN')\n",
    "plt.xlabel('p')\n",
    "plt.ylabel('error rate %')\n",
    "plt.legend(handles=[line1, line2], loc=4)\n",
    "plt.savefig('Q4.png')"
   ]
  },
  {
   "cell_type": "code",
   "execution_count": 5,
   "metadata": {
    "collapsed": false
   },
   "outputs": [],
   "source": []
  },
  {
   "cell_type": "code",
   "execution_count": 23,
   "metadata": {
    "collapsed": false
   },
   "outputs": [],
   "source": []
  },
  {
   "cell_type": "code",
   "execution_count": 44,
   "metadata": {
    "collapsed": false
   },
   "outputs": [
    {
     "name": "stdout",
     "output_type": "stream",
     "text": [
      "0.665\n"
     ]
    }
   ],
   "source": [
    "\n"
   ]
  },
  {
   "cell_type": "code",
   "execution_count": 37,
   "metadata": {
    "collapsed": false
   },
   "outputs": [
    {
     "ename": "AttributeError",
     "evalue": "'numpy.ndarray' object has no attribute 'append'",
     "output_type": "error",
     "traceback": [
      "\u001b[0;31m---------------------------------------------------------------------------\u001b[0m",
      "\u001b[0;31mAttributeError\u001b[0m                            Traceback (most recent call last)",
      "\u001b[0;32m<ipython-input-37-4a3c0fddfd3a>\u001b[0m in \u001b[0;36m<module>\u001b[0;34m()\u001b[0m\n\u001b[0;32m----> 1\u001b[0;31m \u001b[0mpoint_c1\u001b[0m\u001b[0;34m[\u001b[0m\u001b[0;34m:\u001b[0m\u001b[0;36m2\u001b[0m\u001b[0;34m]\u001b[0m\u001b[0;34m.\u001b[0m\u001b[0mappend\u001b[0m\u001b[0;34m(\u001b[0m\u001b[0mpoint_c2\u001b[0m\u001b[0;34m[\u001b[0m\u001b[0;34m:\u001b[0m\u001b[0;36m2\u001b[0m\u001b[0;34m]\u001b[0m\u001b[0;34m)\u001b[0m\u001b[0;34m\u001b[0m\u001b[0m\n\u001b[0m",
      "\u001b[0;31mAttributeError\u001b[0m: 'numpy.ndarray' object has no attribute 'append'"
     ]
    }
   ],
   "source": [
    "point_c1[:2].append(point_c2[:2])"
   ]
  },
  {
   "cell_type": "code",
   "execution_count": 36,
   "metadata": {
    "collapsed": false
   },
   "outputs": [
    {
     "data": {
      "text/plain": [
       "array([[ 1.39637719,  0.15801075, -0.17260543, -0.98971103,  1.90490148,\n",
       "        -0.76240502,  0.19950256, -1.73560476, -0.88443895,  0.51517205,\n",
       "        -0.45239301],\n",
       "       [ 1.75713597,  1.04795034,  0.52684091, -2.22740751,  0.43144535,\n",
       "         1.52715915, -2.66353483,  0.28314583,  0.15976959, -1.41074379,\n",
       "         0.46106784]])"
      ]
     },
     "execution_count": 36,
     "metadata": {},
     "output_type": "execute_result"
    }
   ],
   "source": [
    "point_c2[:2]"
   ]
  },
  {
   "cell_type": "code",
   "execution_count": 38,
   "metadata": {
    "collapsed": false
   },
   "outputs": [
    {
     "data": {
      "text/plain": [
       "array([[ 3.56566773,  1.52870617, -0.90288021, -1.1799578 , -0.61534918,\n",
       "         1.64399688,  0.28727078, -0.60563547,  0.88301411,  0.33141848,\n",
       "        -1.40892621],\n",
       "       [ 2.96495907, -0.85553993, -1.41364161,  0.72484263, -0.04209969,\n",
       "        -1.58564753,  0.40661115,  1.70047154,  0.25291175,  2.39012883,\n",
       "         1.19202654],\n",
       "       [ 1.39637719,  0.15801075, -0.17260543, -0.98971103,  1.90490148,\n",
       "        -0.76240502,  0.19950256, -1.73560476, -0.88443895,  0.51517205,\n",
       "        -0.45239301],\n",
       "       [ 1.75713597,  1.04795034,  0.52684091, -2.22740751,  0.43144535,\n",
       "         1.52715915, -2.66353483,  0.28314583,  0.15976959, -1.41074379,\n",
       "         0.46106784]])"
      ]
     },
     "execution_count": 38,
     "metadata": {},
     "output_type": "execute_result"
    }
   ],
   "source": [
    "np.concatenate((point_c1[:2], point_c2[:2]), axis=0)"
   ]
  },
  {
   "cell_type": "code",
   "execution_count": null,
   "metadata": {
    "collapsed": true
   },
   "outputs": [],
   "source": []
  }
 ],
 "metadata": {
  "kernelspec": {
   "display_name": "Python 2",
   "language": "python",
   "name": "python2"
  },
  "language_info": {
   "codemirror_mode": {
    "name": "ipython",
    "version": 2
   },
   "file_extension": ".py",
   "mimetype": "text/x-python",
   "name": "python",
   "nbconvert_exporter": "python",
   "pygments_lexer": "ipython2",
   "version": "2.7.11"
  }
 },
 "nbformat": 4,
 "nbformat_minor": 0
}
